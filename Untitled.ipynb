{
 "cells": [
  {
   "cell_type": "code",
   "execution_count": 26,
   "metadata": {
    "ExecuteTime": {
     "end_time": "2018-03-22T19:48:39.858663Z",
     "start_time": "2018-03-22T19:48:39.854744Z"
    }
   },
   "outputs": [],
   "source": [
    "import torch\n",
    "import numpy as np"
   ]
  },
  {
   "cell_type": "code",
   "execution_count": 1,
   "metadata": {
    "ExecuteTime": {
     "end_time": "2018-03-23T12:29:53.921259Z",
     "start_time": "2018-03-23T12:29:53.916565Z"
    }
   },
   "outputs": [],
   "source": [
    "a = [1, 2, 3]"
   ]
  },
  {
   "cell_type": "code",
   "execution_count": 1,
   "metadata": {
    "ExecuteTime": {
     "end_time": "2018-03-23T15:16:30.017219Z",
     "start_time": "2018-03-23T15:16:29.642395Z"
    }
   },
   "outputs": [],
   "source": [
    "from models import QP\n"
   ]
  },
  {
   "cell_type": "code",
   "execution_count": 2,
   "metadata": {
    "ExecuteTime": {
     "end_time": "2018-03-23T15:16:30.034083Z",
     "start_time": "2018-03-23T15:16:30.019919Z"
    }
   },
   "outputs": [],
   "source": [
    "qp = QP()"
   ]
  },
  {
   "cell_type": "code",
   "execution_count": 3,
   "metadata": {
    "ExecuteTime": {
     "end_time": "2018-03-23T15:16:30.096480Z",
     "start_time": "2018-03-23T15:16:30.036997Z"
    }
   },
   "outputs": [
    {
     "data": {
      "text/plain": [
       "QP(\n",
       "  (relu): ReLU()\n",
       "  (tanh): Tanh()\n",
       "  (test): Sequential(\n",
       "    (0): ResBlock(\n",
       "      (conv1): Conv2d (3, 24, kernel_size=(1, 1), stride=(1, 1))\n",
       "      (bn1): BatchNorm2d(24, eps=1e-05, momentum=0.1, affine=True)\n",
       "      (relu): ReLU()\n",
       "      (conv2): Conv2d (24, 24, kernel_size=(1, 1), stride=(1, 1))\n",
       "      (bn2): BatchNorm2d(24, eps=1e-05, momentum=0.1, affine=True)\n",
       "    )\n",
       "  )\n",
       ")"
      ]
     },
     "execution_count": 3,
     "metadata": {},
     "output_type": "execute_result"
    }
   ],
   "source": [
    "qp"
   ]
  },
  {
   "cell_type": "code",
   "execution_count": null,
   "metadata": {},
   "outputs": [],
   "source": []
  }
 ],
 "metadata": {
  "kernelspec": {
   "display_name": "Python 3",
   "language": "python",
   "name": "python3"
  },
  "language_info": {
   "codemirror_mode": {
    "name": "ipython",
    "version": 3
   },
   "file_extension": ".py",
   "mimetype": "text/x-python",
   "name": "python",
   "nbconvert_exporter": "python",
   "pygments_lexer": "ipython3",
   "version": "3.6.3"
  },
  "toc": {
   "nav_menu": {},
   "number_sections": true,
   "sideBar": true,
   "skip_h1_title": false,
   "toc_cell": false,
   "toc_position": {},
   "toc_section_display": "block",
   "toc_window_display": false
  }
 },
 "nbformat": 4,
 "nbformat_minor": 2
}
