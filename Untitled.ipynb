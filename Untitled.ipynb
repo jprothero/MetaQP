{
 "cells": [
  {
   "cell_type": "code",
   "execution_count": 10,
   "metadata": {
    "ExecuteTime": {
     "end_time": "2018-03-22T19:12:30.112011Z",
     "start_time": "2018-03-22T19:12:30.106471Z"
    }
   },
   "outputs": [],
   "source": [
    "import torch\n",
    "import numpy as np"
   ]
  },
  {
   "cell_type": "code",
   "execution_count": 22,
   "metadata": {
    "ExecuteTime": {
     "end_time": "2018-03-22T19:14:05.557974Z",
     "start_time": "2018-03-22T19:14:05.546910Z"
    }
   },
   "outputs": [
    {
     "data": {
      "text/plain": [
       "\n",
       "(0 ,0 ,.,.) = \n",
       "   0   0   0   0   0   0   0\n",
       "   0   0   0   0   0   0   0\n",
       "   0   0   0   0   0   0   0\n",
       "   0   0   0   0   0   0   0\n",
       "   0   0   0   0   0   0   0\n",
       "   0   0   0   0   0   0   0\n",
       "\n",
       "(0 ,1 ,.,.) = \n",
       "   0   0   0   0   0   0   0\n",
       "   0   0   0   0   0   0   0\n",
       "   0   0   0   0   0   0   0\n",
       "   0   0   0   0   0   0   0\n",
       "   0   0   0   0   0   0   0\n",
       "   0   0   0   0   0   0   0\n",
       "\n",
       "(0 ,2 ,.,.) = \n",
       "   0   0   0   0   0   0   0\n",
       "   0   0   0   0   0   0   0\n",
       "   0   0   0   0   0   0   0\n",
       "   0   0   0   0   0   0   0\n",
       "   0   0   0   0   0   0   0\n",
       "   0   0   0   0   0   0   0\n",
       "\n",
       "(1 ,0 ,.,.) = \n",
       "   0   0   0   0   0   0   0\n",
       "   0   0   0   0   0   0   0\n",
       "   0   0   0   0   0   0   0\n",
       "   0   0   0   0   0   0   0\n",
       "   0   0   0   0   0   0   0\n",
       "   0   0   0   0   0   0   0\n",
       "\n",
       "(1 ,1 ,.,.) = \n",
       "   0   0   0   0   0   0   0\n",
       "   0   0   0   0   0   0   0\n",
       "   0   0   0   0   0   0   0\n",
       "   0   0   0   0   0   0   0\n",
       "   0   0   0   0   0   0   0\n",
       "   0   0   0   0   0   0   0\n",
       "\n",
       "(1 ,2 ,.,.) = \n",
       "   0   0   0   0   0   0   0\n",
       "   0   0   0   0   0   0   0\n",
       "   0   0   0   0   0   0   0\n",
       "   0   0   0   0   0   0   0\n",
       "   0   0   0   0   0   0   0\n",
       "   0   0   0   0   0   0   0\n",
       "\n",
       "(2 ,0 ,.,.) = \n",
       "   0   0   0   0   0   0   0\n",
       "   0   0   0   0   0   0   0\n",
       "   0   0   0   0   0   0   0\n",
       "   0   0   0   0   0   0   0\n",
       "   0   0   0   0   0   0   0\n",
       "   0   0   0   0   0   0   0\n",
       "\n",
       "(2 ,1 ,.,.) = \n",
       "   0   0   0   0   0   0   0\n",
       "   0   0   0   0   0   0   0\n",
       "   0   0   0   0   0   0   0\n",
       "   0   0   0   0   0   0   0\n",
       "   0   0   0   0   0   0   0\n",
       "   0   0   0   0   0   0   0\n",
       "\n",
       "(2 ,2 ,.,.) = \n",
       "   0   0   0   0   0   0   0\n",
       "   0   0   0   0   0   0   0\n",
       "   0   0   0   0   0   0   0\n",
       "   0   0   0   0   0   0   0\n",
       "   0   0   0   0   0   0   0\n",
       "   0   0   0   0   0   0   0\n",
       "\n",
       "(3 ,0 ,.,.) = \n",
       "   0   0   0   0   0   0   0\n",
       "   0   0   0   0   0   0   0\n",
       "   0   0   0   0   0   0   0\n",
       "   0   0   0   0   0   0   0\n",
       "   0   0   0   0   0   0   0\n",
       "   0   0   0   0   0   0   0\n",
       "\n",
       "(3 ,1 ,.,.) = \n",
       "   0   0   0   0   0   0   0\n",
       "   0   0   0   0   0   0   0\n",
       "   0   0   0   0   0   0   0\n",
       "   0   0   0   0   0   0   0\n",
       "   0   0   0   0   0   0   0\n",
       "   0   0   0   0   0   0   0\n",
       "\n",
       "(3 ,2 ,.,.) = \n",
       "   0   0   0   0   0   0   0\n",
       "   0   0   0   0   0   0   0\n",
       "   0   0   0   0   0   0   0\n",
       "   0   0   0   0   0   0   0\n",
       "   0   0   0   0   0   0   0\n",
       "   0   0   0   0   0   0   0\n",
       "\n",
       "(4 ,0 ,.,.) = \n",
       "   0   0   0   0   0   0   0\n",
       "   0   0   0   0   0   0   0\n",
       "   0   0   0   0   0   0   0\n",
       "   0   0   0   0   0   0   0\n",
       "   0   0   0   0   0   0   0\n",
       "   0   0   0   0   0   0   0\n",
       "\n",
       "(4 ,1 ,.,.) = \n",
       "   0   0   0   0   0   0   0\n",
       "   0   0   0   0   0   0   0\n",
       "   0   0   0   0   0   0   0\n",
       "   0   0   0   0   0   0   0\n",
       "   0   0   0   0   0   0   0\n",
       "   0   0   0   0   0   0   0\n",
       "\n",
       "(4 ,2 ,.,.) = \n",
       "   0   0   0   0   0   0   0\n",
       "   0   0   0   0   0   0   0\n",
       "   0   0   0   0   0   0   0\n",
       "   0   0   0   0   0   0   0\n",
       "   0   0   0   0   0   0   0\n",
       "   0   0   0   0   0   0   0\n",
       "[torch.FloatTensor of size 5x3x6x7]"
      ]
     },
     "execution_count": 22,
     "metadata": {},
     "output_type": "execute_result"
    }
   ],
   "source": [
    "torch.zeros(5, 3, 6, 7)"
   ]
  },
  {
   "cell_type": "code",
   "execution_count": 25,
   "metadata": {
    "ExecuteTime": {
     "end_time": "2018-03-22T19:17:00.859964Z",
     "start_time": "2018-03-22T19:17:00.852921Z"
    }
   },
   "outputs": [
    {
     "data": {
      "text/plain": [
       "(15, 6, 7)"
      ]
     },
     "execution_count": 25,
     "metadata": {},
     "output_type": "execute_result"
    }
   ],
   "source": [
    "state = np.ones((3, 6, 7))\n",
    "\n",
    "np.repeat(state, 5, axis=0).shape"
   ]
  }
 ],
 "metadata": {
  "kernelspec": {
   "display_name": "Python 3",
   "language": "python",
   "name": "python3"
  },
  "language_info": {
   "codemirror_mode": {
    "name": "ipython",
    "version": 3
   },
   "file_extension": ".py",
   "mimetype": "text/x-python",
   "name": "python",
   "nbconvert_exporter": "python",
   "pygments_lexer": "ipython3",
   "version": "3.6.3"
  },
  "toc": {
   "nav_menu": {},
   "number_sections": true,
   "sideBar": true,
   "skip_h1_title": false,
   "toc_cell": false,
   "toc_position": {},
   "toc_section_display": "block",
   "toc_window_display": false
  }
 },
 "nbformat": 4,
 "nbformat_minor": 2
}
