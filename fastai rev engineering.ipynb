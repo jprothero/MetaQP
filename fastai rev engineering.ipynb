{
 "cells": [
  {
   "cell_type": "code",
   "execution_count": null,
   "metadata": {},
   "outputs": [],
   "source": [
    "from .imports import *\n",
    "from .torch_imports import *\n",
    "from .core import *\n",
    "from .transforms import *\n",
    "from .model import *\n",
    "from .dataset import *\n",
    "from .sgdr import *\n",
    "from .layer_optimizer import *\n",
    "from .layers import *\n",
    "from .metrics import *\n",
    "from .losses import *\n",
    "import time\n",
    "\n",
    "class BareboneLearner():\n",
    "    def __init__(self, model, opt_fn=None, tmp_name=\"tmp\", clip=None):\n",
    "        self.model = model\n",
    "        self.opt_fn = \"adamw\"\n",
    "        os.makedirs(tmp_name, exist_ok=True)\n",
    "        self.crit = None\n",
    "        self.reg_fn = None"
   ]
  }
 ],
 "metadata": {
  "kernelspec": {
   "display_name": "Python 3",
   "language": "python",
   "name": "python3"
  },
  "language_info": {
   "codemirror_mode": {
    "name": "ipython",
    "version": 3
   },
   "file_extension": ".py",
   "mimetype": "text/x-python",
   "name": "python",
   "nbconvert_exporter": "python",
   "pygments_lexer": "ipython3",
   "version": "3.6.3"
  },
  "toc": {
   "nav_menu": {},
   "number_sections": true,
   "sideBar": true,
   "skip_h1_title": false,
   "toc_cell": false,
   "toc_position": {},
   "toc_section_display": "block",
   "toc_window_display": false
  }
 },
 "nbformat": 4,
 "nbformat_minor": 2
}
