{
 "cells": [
  {
   "cell_type": "code",
   "execution_count": 26,
   "metadata": {
    "ExecuteTime": {
     "end_time": "2018-03-22T19:48:39.858663Z",
     "start_time": "2018-03-22T19:48:39.854744Z"
    }
   },
   "outputs": [],
   "source": [
    "import torch\n",
    "import numpy as np"
   ]
  },
  {
   "cell_type": "code",
   "execution_count": 1,
   "metadata": {
    "ExecuteTime": {
     "end_time": "2018-03-23T12:29:53.921259Z",
     "start_time": "2018-03-23T12:29:53.916565Z"
    }
   },
   "outputs": [],
   "source": [
    "a = [1, 2, 3]"
   ]
  },
  {
   "cell_type": "code",
   "execution_count": 1,
   "metadata": {
    "ExecuteTime": {
     "end_time": "2018-03-23T15:49:00.459411Z",
     "start_time": "2018-03-23T15:48:59.857793Z"
    }
   },
   "outputs": [],
   "source": [
    "from models import QP\n"
   ]
  },
  {
   "cell_type": "code",
   "execution_count": 2,
   "metadata": {
    "ExecuteTime": {
     "end_time": "2018-03-23T15:49:00.479013Z",
     "start_time": "2018-03-23T15:49:00.462127Z"
    }
   },
   "outputs": [],
   "source": [
    "qp = QP()"
   ]
  },
  {
   "cell_type": "code",
   "execution_count": 5,
   "metadata": {
    "ExecuteTime": {
     "end_time": "2018-03-23T15:49:04.487658Z",
     "start_time": "2018-03-23T15:49:04.480210Z"
    }
   },
   "outputs": [
    {
     "data": {
      "text/plain": [
       "QP(\n",
       "  (relu): ReLU()\n",
       "  (tanh): Tanh()\n",
       "  (state_res_inp): Sequential(\n",
       "    (0): ResBlock(\n",
       "      (conv1): Conv2d (3, 24, kernel_size=(1, 1), stride=(1, 1))\n",
       "      (bn1): BatchNorm2d(24, eps=1e-05, momentum=0.1, affine=True)\n",
       "      (relu): ReLU()\n",
       "      (conv2): Conv2d (24, 24, kernel_size=(1, 1), stride=(1, 1))\n",
       "      (bn2): BatchNorm2d(24, eps=1e-05, momentum=0.1, affine=True)\n",
       "    )\n",
       "  )\n",
       "  (state_res1): Sequential(\n",
       "    (0): ResBlock(\n",
       "      (conv1): Conv2d (24, 24, kernel_size=(1, 1), stride=(1, 1))\n",
       "      (bn1): BatchNorm2d(24, eps=1e-05, momentum=0.1, affine=True)\n",
       "      (relu): ReLU()\n",
       "      (conv2): Conv2d (24, 24, kernel_size=(1, 1), stride=(1, 1))\n",
       "      (bn2): BatchNorm2d(24, eps=1e-05, momentum=0.1, affine=True)\n",
       "    )\n",
       "  )\n",
       "  (state_res2): Sequential(\n",
       "    (0): ResBlock(\n",
       "      (conv1): Conv2d (24, 24, kernel_size=(1, 1), stride=(1, 1))\n",
       "      (bn1): BatchNorm2d(24, eps=1e-05, momentum=0.1, affine=True)\n",
       "      (relu): ReLU()\n",
       "      (conv2): Conv2d (24, 24, kernel_size=(1, 1), stride=(1, 1))\n",
       "      (bn2): BatchNorm2d(24, eps=1e-05, momentum=0.1, affine=True)\n",
       "    )\n",
       "  )\n",
       "  (state_res_out): Sequential(\n",
       "    (0): ResBlock(\n",
       "      (conv1): Conv2d (24, 24, kernel_size=(1, 1), stride=(1, 1))\n",
       "      (bn1): BatchNorm2d(24, eps=1e-05, momentum=0.1, affine=True)\n",
       "      (relu): ReLU()\n",
       "      (conv2): Conv2d (24, 24, kernel_size=(1, 1), stride=(1, 1))\n",
       "      (bn2): BatchNorm2d(24, eps=1e-05, momentum=0.1, affine=True)\n",
       "    )\n",
       "  )\n",
       "  (q_res_inp): Sequential(\n",
       "    (0): ResBlock(\n",
       "      (conv1): Conv2d (25, 24, kernel_size=(1, 1), stride=(1, 1))\n",
       "      (bn1): BatchNorm2d(24, eps=1e-05, momentum=0.1, affine=True)\n",
       "      (relu): ReLU()\n",
       "      (conv2): Conv2d (24, 24, kernel_size=(1, 1), stride=(1, 1))\n",
       "      (bn2): BatchNorm2d(24, eps=1e-05, momentum=0.1, affine=True)\n",
       "    )\n",
       "  )\n",
       "  (q_res1): Sequential(\n",
       "    (0): ResBlock(\n",
       "      (conv1): Conv2d (24, 24, kernel_size=(1, 1), stride=(1, 1))\n",
       "      (bn1): BatchNorm2d(24, eps=1e-05, momentum=0.1, affine=True)\n",
       "      (relu): ReLU()\n",
       "      (conv2): Conv2d (24, 24, kernel_size=(1, 1), stride=(1, 1))\n",
       "      (bn2): BatchNorm2d(24, eps=1e-05, momentum=0.1, affine=True)\n",
       "    )\n",
       "  )\n",
       "  (q_res_out): Sequential(\n",
       "    (0): QHead(\n",
       "      (relu): ReLU()\n",
       "      (tanh): Tanh()\n",
       "      (conv1): Conv2d (24, 1, kernel_size=(1, 1), stride=(1, 1))\n",
       "      (bn1): BatchNorm1d(1, eps=1e-05, momentum=0.1, affine=True)\n",
       "      (lin1): Linear(in_features=1, out_features=32)\n",
       "      (scalar): Linear(in_features=32, out_features=1)\n",
       "    )\n",
       "  )\n",
       "  (p_res_inp): Sequential(\n",
       "    (0): ResBlock(\n",
       "      (conv1): Conv2d (24, 24, kernel_size=(1, 1), stride=(1, 1))\n",
       "      (bn1): BatchNorm2d(24, eps=1e-05, momentum=0.1, affine=True)\n",
       "      (relu): ReLU()\n",
       "      (conv2): Conv2d (24, 24, kernel_size=(1, 1), stride=(1, 1))\n",
       "      (bn2): BatchNorm2d(24, eps=1e-05, momentum=0.1, affine=True)\n",
       "    )\n",
       "  )\n",
       "  (p_res1): Sequential(\n",
       "    (0): ResBlock(\n",
       "      (conv1): Conv2d (24, 24, kernel_size=(1, 1), stride=(1, 1))\n",
       "      (bn1): BatchNorm2d(24, eps=1e-05, momentum=0.1, affine=True)\n",
       "      (relu): ReLU()\n",
       "      (conv2): Conv2d (24, 24, kernel_size=(1, 1), stride=(1, 1))\n",
       "      (bn2): BatchNorm2d(24, eps=1e-05, momentum=0.1, affine=True)\n",
       "    )\n",
       "  )\n",
       "  (p_res_out): Sequential(\n",
       "    (0): PolicyHead(\n",
       "      (relu): ReLU()\n",
       "      (tanh): Tanh()\n",
       "      (conv1): Conv2d (24, 2, kernel_size=(1, 1), stride=(1, 1))\n",
       "      (bn1): BatchNorm1d(2, eps=1e-05, momentum=0.1, affine=True)\n",
       "      (policy): Linear(in_features=2, out_features=42)\n",
       "    )\n",
       "  )\n",
       ")"
      ]
     },
     "execution_count": 5,
     "metadata": {},
     "output_type": "execute_result"
    }
   ],
   "source": [
    "qp"
   ]
  },
  {
   "cell_type": "code",
   "execution_count": 6,
   "metadata": {
    "ExecuteTime": {
     "end_time": "2018-03-23T15:49:06.031868Z",
     "start_time": "2018-03-23T15:49:06.027353Z"
    }
   },
   "outputs": [],
   "source": [
    "from torch.optim import Adam"
   ]
  },
  {
   "cell_type": "code",
   "execution_count": 9,
   "metadata": {
    "ExecuteTime": {
     "end_time": "2018-03-23T15:49:35.039120Z",
     "start_time": "2018-03-23T15:49:35.018877Z"
    }
   },
   "outputs": [],
   "source": [
    "from collections import OrderedDict\n",
    "\n",
    "params = qp.state_dict()\n",
    "\n",
    "q_params = OrderedDict()\n",
    "p_params = OrderedDict()\n",
    "\n",
    "for (key, val) in params.items():\n",
    "    if \"p_res\" in key:\n",
    "        p_params[key] = val\n",
    "    elif \"q_res\" in key:\n",
    "        q_params[key] = val\n",
    "    else:\n",
    "        p_params[key] = val\n",
    "        q_params[key] = val"
   ]
  },
  {
   "cell_type": "code",
   "execution_count": 7,
   "metadata": {
    "ExecuteTime": {
     "end_time": "2018-03-23T15:49:12.493904Z",
     "start_time": "2018-03-23T15:49:12.487747Z"
    }
   },
   "outputs": [
    {
     "data": {
      "text/plain": [
       "<torch.optim.adam.Adam at 0x7fde8e26fb70>"
      ]
     },
     "execution_count": 7,
     "metadata": {},
     "output_type": "execute_result"
    }
   ],
   "source": [
    "Adam(qp.parameters()).state_dict()"
   ]
  }
 ],
 "metadata": {
  "kernelspec": {
   "display_name": "Python 3",
   "language": "python",
   "name": "python3"
  },
  "language_info": {
   "codemirror_mode": {
    "name": "ipython",
    "version": 3
   },
   "file_extension": ".py",
   "mimetype": "text/x-python",
   "name": "python",
   "nbconvert_exporter": "python",
   "pygments_lexer": "ipython3",
   "version": "3.6.3"
  },
  "toc": {
   "nav_menu": {},
   "number_sections": true,
   "sideBar": true,
   "skip_h1_title": false,
   "toc_cell": false,
   "toc_position": {},
   "toc_section_display": "block",
   "toc_window_display": false
  }
 },
 "nbformat": 4,
 "nbformat_minor": 2
}
