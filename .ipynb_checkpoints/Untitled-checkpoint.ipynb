{
 "cells": [
  {
   "cell_type": "code",
   "execution_count": 3,
   "metadata": {
    "ExecuteTime": {
     "end_time": "2018-03-27T19:29:00.495466Z",
     "start_time": "2018-03-27T19:29:00.490737Z"
    }
   },
   "outputs": [],
   "source": [
    "from IPython.core.debugger import set_trace\n"
   ]
  },
  {
   "cell_type": "code",
   "execution_count": 33,
   "metadata": {
    "ExecuteTime": {
     "end_time": "2018-03-27T19:43:27.664909Z",
     "start_time": "2018-03-27T19:43:27.616814Z"
    }
   },
   "outputs": [],
   "source": [
    "import numpy as np\n",
    "\n",
    "BATCH_SIZE=4\n",
    "N_WAY=2\n",
    "a = np.array([1, 2, 3, 4])\n",
    "is_done = [True, True, True, True]\n",
    "\n",
    "idx = 0\n",
    "# is_done[0] = True\n",
    "\n",
    "for i in range(BATCH_SIZE // N_WAY):\n",
    "    for j in range(N_WAY):\n",
    "        for k in range(N_WAY-j):\n",
    "            if is_done[idx]:\n",
    "                if k == 0:\n",
    "                    pass\n",
    "                elif not is_done[idx+k]:\n",
    "                    is_done[idx+k] = True\n",
    "                    is_done[idx] = False\n",
    "    #                 print(a[idx])\n",
    "                    a[idx] = a[idx+k]\n",
    "\n",
    "                    print(\"idx: {}\".format(idx), \"val: {}\".format(a[idx]))\n",
    "\n",
    "                    break\n",
    "                    \n",
    "        idx += 1"
   ]
  },
  {
   "cell_type": "code",
   "execution_count": null,
   "metadata": {},
   "outputs": [],
   "source": []
  }
 ],
 "metadata": {
  "kernelspec": {
   "display_name": "Python 3",
   "language": "python",
   "name": "python3"
  },
  "language_info": {
   "codemirror_mode": {
    "name": "ipython",
    "version": 3
   },
   "file_extension": ".py",
   "mimetype": "text/x-python",
   "name": "python",
   "nbconvert_exporter": "python",
   "pygments_lexer": "ipython3",
   "version": "3.6.3"
  },
  "toc": {
   "nav_menu": {},
   "number_sections": true,
   "sideBar": true,
   "skip_h1_title": false,
   "toc_cell": false,
   "toc_position": {},
   "toc_section_display": "block",
   "toc_window_display": false
  }
 },
 "nbformat": 4,
 "nbformat_minor": 2
}
