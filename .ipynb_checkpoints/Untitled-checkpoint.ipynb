{
 "cells": [
  {
   "cell_type": "code",
   "execution_count": 26,
   "metadata": {
    "ExecuteTime": {
     "end_time": "2018-03-22T19:48:39.858663Z",
     "start_time": "2018-03-22T19:48:39.854744Z"
    }
   },
   "outputs": [],
   "source": [
    "import torch\n",
    "import numpy as np"
   ]
  },
  {
   "cell_type": "code",
   "execution_count": 82,
   "metadata": {
    "ExecuteTime": {
     "end_time": "2018-03-22T19:49:28.226143Z",
     "start_time": "2018-03-22T19:49:28.217897Z"
    }
   },
   "outputs": [
    {
     "data": {
      "text/plain": [
       "array([ 0.038574  ,  0.00709042,  0.00363055,  0.03804981,  0.05945713,\n",
       "        0.03685163,  0.04426598,  0.09611728,  0.00937357,  0.08666412,\n",
       "        0.01682087,  0.00546497,  0.01773792,  0.04475077,  0.02320788,\n",
       "        0.0212408 ,  0.02953273,  0.01813783,  0.00650803,  0.06012304,\n",
       "        0.0063244 ,  0.03566242,  0.00056491,  0.01231387,  0.01003039,\n",
       "        0.01143298,  0.02187484,  0.01823428,  0.00500465,  0.01428607,\n",
       "        0.02200112,  0.00080949,  0.02519275,  0.02449381,  0.00215638,\n",
       "        0.00782401,  0.02672438,  0.02325398,  0.02300738,  0.02441949,\n",
       "        0.00805421,  0.01273485])"
      ]
     },
     "execution_count": 82,
     "metadata": {},
     "output_type": "execute_result"
    }
   ],
   "source": [
    "np.random.dirichlet([1] * 42)"
   ]
  }
 ],
 "metadata": {
  "kernelspec": {
   "display_name": "Python 3",
   "language": "python",
   "name": "python3"
  },
  "language_info": {
   "codemirror_mode": {
    "name": "ipython",
    "version": 3
   },
   "file_extension": ".py",
   "mimetype": "text/x-python",
   "name": "python",
   "nbconvert_exporter": "python",
   "pygments_lexer": "ipython3",
   "version": "3.6.3"
  },
  "toc": {
   "nav_menu": {},
   "number_sections": true,
   "sideBar": true,
   "skip_h1_title": false,
   "toc_cell": false,
   "toc_position": {},
   "toc_section_display": "block",
   "toc_window_display": false
  }
 },
 "nbformat": 4,
 "nbformat_minor": 2
}
