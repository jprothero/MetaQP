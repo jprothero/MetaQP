{
 "cells": [
  {
   "cell_type": "code",
   "execution_count": 1,
   "metadata": {
    "ExecuteTime": {
     "end_time": "2018-03-28T18:36:45.362667Z",
     "start_time": "2018-03-28T18:36:45.272759Z"
    }
   },
   "outputs": [],
   "source": [
    "import numpy as np"
   ]
  },
  {
   "cell_type": "code",
   "execution_count": null,
   "metadata": {
    "ExecuteTime": {
     "end_time": "2018-03-28T17:27:40.472889Z",
     "start_time": "2018-03-28T17:27:40.467959Z"
    }
   },
   "outputs": [],
   "source": []
  },
  {
   "cell_type": "code",
   "execution_count": 6,
   "metadata": {
    "ExecuteTime": {
     "end_time": "2018-03-28T18:37:49.304162Z",
     "start_time": "2018-03-28T18:37:48.299708Z"
    }
   },
   "outputs": [],
   "source": [
    "def check_win(state, i, j):\n",
    "    done = False\n",
    "    done = check_left(state, i, j)\n",
    "    if done:\n",
    "        return done\n",
    "    done = check_right(state, i, j)\n",
    "    if done:\n",
    "        return done\n",
    "    done = check_up(state, i, j)\n",
    "    if done:\n",
    "        return done\n",
    "    done = check_down(state, i, j)\n",
    "    if done:\n",
    "        return done\n",
    "    done = check_diag_left_up(state, i, j)\n",
    "    if done:\n",
    "        return done\n",
    "    done = check_diag_left_down(state, i, j)\n",
    "    if done:\n",
    "        return done\n",
    "    done = check_diag_right_up(state, i, j)\n",
    "    if done:\n",
    "        return done\n",
    "    done = check_diag_right_down(state, i, j)\n",
    "    return done\n",
    "\n",
    "def check_left(state, i, j):\n",
    "    if j > 2:\n",
    "        num_in_a_row = 0\n",
    "        \n",
    "        for k in range(1, 4):\n",
    "            if state[i][j-k] == 0:\n",
    "                break\n",
    "            else:\n",
    "                num_in_a_row += 1\n",
    "            if num_in_a_row == 3:\n",
    "                return True\n",
    "            \n",
    "    return False\n",
    "\n",
    "def check_right(state, i, j):\n",
    "    if j < (state.shape[1]-3):\n",
    "        num_in_a_row = 0\n",
    "        \n",
    "        for k in range(1, 4):\n",
    "            if state[i][j+k] == 0:\n",
    "                break\n",
    "            else:\n",
    "                num_in_a_row += 1\n",
    "            if num_in_a_row == 3:\n",
    "                return True\n",
    "            \n",
    "    return False\n",
    "\n",
    "def check_up(state, i, j):\n",
    "    if i > 2:\n",
    "        num_in_a_row = 0\n",
    "        \n",
    "        for k in range(1, 4):\n",
    "            if state[i-k][j] == 0:\n",
    "                break\n",
    "            else:\n",
    "                num_in_a_row += 1\n",
    "            if num_in_a_row == 3:\n",
    "                return True\n",
    "            \n",
    "    return False\n",
    "\n",
    "def check_down(state, i, j):\n",
    "    if i < (state.shape[0]-3):\n",
    "        num_in_a_row = 0\n",
    "        \n",
    "        for k in range(1, 4):\n",
    "            if state[i+k][j] == 0:\n",
    "                break\n",
    "            else:\n",
    "                num_in_a_row += 1\n",
    "            if num_in_a_row == 3:\n",
    "                return True\n",
    "            \n",
    "    return False\n",
    "\n",
    "def check_diag_left_up(state, i, j):\n",
    "    if i > 2 or j > 2:\n",
    "        num_in_a_row = 0\n",
    "        \n",
    "        for k in range(1, 4):\n",
    "            if state[i-k][j-k] == 0:\n",
    "                break\n",
    "            else:\n",
    "                num_in_a_row += 1\n",
    "            if num_in_a_row == 3:\n",
    "                return True\n",
    "            \n",
    "    return False\n",
    "\n",
    "def check_diag_left_down(state, i, j):\n",
    "    if i < (state.shape[0]-3) and j > 2:\n",
    "        num_in_a_row = 0\n",
    "        \n",
    "        for k in range(1, 4):\n",
    "            if state[i+k][j-k] == 0:\n",
    "                break\n",
    "            else:\n",
    "                num_in_a_row += 1\n",
    "            if num_in_a_row == 3:\n",
    "                return True\n",
    "            \n",
    "    return False\n",
    "\n",
    "def check_diag_right_up(state, i, j):\n",
    "    if i < (state.shape[0]-3) and j < (state.shape[1]-3):\n",
    "        num_in_a_row = 0\n",
    "        \n",
    "        for k in range(1, 4):\n",
    "            if state[i+k][j+k] == 0:\n",
    "                break\n",
    "            else:\n",
    "                num_in_a_row += 1\n",
    "            if num_in_a_row == 3:\n",
    "                return True\n",
    "            \n",
    "    return False\n",
    "\n",
    "def check_diag_right_down(state, i, j):\n",
    "    if i > 2 or j < (state.shape[1]-3):\n",
    "        num_in_a_row = 0\n",
    "        \n",
    "        for k in range(1, 4):\n",
    "            if state[i-k][j+k] == 0:\n",
    "                break\n",
    "            else:\n",
    "                num_in_a_row += 1\n",
    "            if num_in_a_row == 3:\n",
    "                return True\n",
    "            \n",
    "    return False"
   ]
  },
  {
   "cell_type": "code",
   "execution_count": 7,
   "metadata": {
    "ExecuteTime": {
     "end_time": "2018-03-28T18:37:49.676181Z",
     "start_time": "2018-03-28T18:37:49.513155Z"
    }
   },
   "outputs": [],
   "source": [
    "def test_win_checkers():\n",
    "    board = np.zeros((6, 7))\n",
    "    \n",
    "    left_win = np.copy(board)\n",
    "    right_win = np.copy(board)\n",
    "    up_win = np.copy(board)\n",
    "    down_win = np.copy(board)\n",
    "    left_up_diag_win = np.copy(board)\n",
    "    right_up_diag_win = np.copy(board)\n",
    "    left_down_diag_win = np.copy(board)\n",
    "    right_down_diag_win = np.copy(board)\n",
    "    \n",
    "    left_win[0][:4] = 1; left_win #0, 3\n",
    "    assert(check_win(left_win, 0, 3))\n",
    "    \n",
    "    right_win[0][:4] = 1; right_win #0, 0\n",
    "    assert(check_win(right_win, 0, 0))\n",
    "    \n",
    "    for i in range(4):\n",
    "        up_win[i][0] = 1\n",
    "    up_win #3, 0\n",
    "    assert(check_win(up_win, 3, 0))\n",
    "    \n",
    "    for i in range(4):\n",
    "        down_win[i][0] = 1\n",
    "    down_win #0, 0\n",
    "    assert(check_win(down_win, 0, 0))\n",
    "    \n",
    "    for i in range(4):\n",
    "        left_up_diag_win[i, i] = 1\n",
    "    left_up_diag_win #3, 3\n",
    "    assert(check_win(left_up_diag_win, 3, 3))\n",
    "    \n",
    "    for i in range(4):\n",
    "        left_down_diag_win[i, i] = 1\n",
    "    left_down_diag_win #0, 0\n",
    "    assert(check_win(left_down_diag_win, 0, 0))\n",
    "    \n",
    "    for i in range(4):\n",
    "        right_up_diag_win[i, 3-i] = 1\n",
    "    right_up_diag_win #3, 0\n",
    "    assert(check_win(right_up_diag_win, 3, 0))\n",
    "    \n",
    "    for i in range(4):\n",
    "        right_down_diag_win[i, 3-i] = 1\n",
    "    right_down_diag_win #0, 3\n",
    "    assert(check_win(right_down_diag_win, 0, 3))"
   ]
  },
  {
   "cell_type": "code",
   "execution_count": 11,
   "metadata": {
    "ExecuteTime": {
     "end_time": "2018-03-28T18:37:53.441777Z",
     "start_time": "2018-03-28T18:37:53.434878Z"
    }
   },
   "outputs": [],
   "source": [
    "test_win_checkers()"
   ]
  },
  {
   "cell_type": "code",
   "execution_count": null,
   "metadata": {},
   "outputs": [],
   "source": []
  },
  {
   "cell_type": "code",
   "execution_count": null,
   "metadata": {},
   "outputs": [],
   "source": []
  },
  {
   "cell_type": "code",
   "execution_count": 54,
   "metadata": {
    "ExecuteTime": {
     "end_time": "2018-03-28T18:16:44.408913Z",
     "start_time": "2018-03-28T18:16:44.402410Z"
    }
   },
   "outputs": [
    {
     "data": {
      "text/plain": [
       "True"
      ]
     },
     "execution_count": 54,
     "metadata": {},
     "output_type": "execute_result"
    }
   ],
   "source": [
    "check_win(left_diag_win_board, 3, 3)"
   ]
  },
  {
   "cell_type": "code",
   "execution_count": null,
   "metadata": {},
   "outputs": [],
   "source": []
  }
 ],
 "metadata": {
  "kernelspec": {
   "display_name": "Python 3",
   "language": "python",
   "name": "python3"
  },
  "language_info": {
   "codemirror_mode": {
    "name": "ipython",
    "version": 3
   },
   "file_extension": ".py",
   "mimetype": "text/x-python",
   "name": "python",
   "nbconvert_exporter": "python",
   "pygments_lexer": "ipython3",
   "version": "3.6.3"
  },
  "toc": {
   "nav_menu": {},
   "number_sections": true,
   "sideBar": true,
   "skip_h1_title": false,
   "toc_cell": false,
   "toc_position": {},
   "toc_section_display": "block",
   "toc_window_display": false
  }
 },
 "nbformat": 4,
 "nbformat_minor": 2
}
