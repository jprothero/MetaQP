{
 "cells": [
  {
   "cell_type": "code",
   "execution_count": 17,
   "metadata": {
    "ExecuteTime": {
     "end_time": "2018-03-23T18:55:09.035132Z",
     "start_time": "2018-03-23T18:55:09.030486Z"
    },
    "collapsed": true
   },
   "outputs": [],
   "source": [
    "from MetaQP import MetaQP\n",
    "from Connect4 import Connect4\n",
    "import config\n",
    "import numpy as np\n",
    "import pickle\n",
    "from IPython.core.debugger import set_trace\n",
    "import torch\n",
    "\n",
    "connect4 = Connect4()\n",
    "actions = connect4.actions\n",
    "calculate_reward = connect4.calculate_reward\n",
    "get_legal_actions = connect4.get_legal_actions\n",
    "transition = connect4.transition\n",
    "\n",
    "root_state = np.zeros(shape=(3, 6, 7), dtype=\"float32\")\n",
    "iteration = 0\n",
    "\n",
    "metaqp = MetaQP(actions=actions, calculate_reward=calculate_reward,\n",
    "    get_legal_actions=get_legal_actions, transition=transition)\n",
    "\n",
    "while True:\n",
    "    metaqp.train_memories()\n",
    "    metaqp.run_episode(root_state)\n",
    "\n",
    "    iteration += 1\n",
    "    print(\"Iteration Number \"+str(iteration))"
   ]
  }
 ],
 "metadata": {
  "kernelspec": {
   "display_name": "Python 3",
   "language": "python",
   "name": "python3"
  },
  "language_info": {
   "codemirror_mode": {
    "name": "ipython",
    "version": 3
   },
   "file_extension": ".py",
   "mimetype": "text/x-python",
   "name": "python",
   "nbconvert_exporter": "python",
   "pygments_lexer": "ipython3",
   "version": "3.6.3"
  },
  "toc": {
   "nav_menu": {},
   "number_sections": true,
   "sideBar": true,
   "skip_h1_title": false,
   "toc_cell": false,
   "toc_position": {},
   "toc_section_display": "block",
   "toc_window_display": false
  }
 },
 "nbformat": 4,
 "nbformat_minor": 2
}
