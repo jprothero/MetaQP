{
 "cells": [
  {
   "cell_type": "code",
   "execution_count": 1,
   "metadata": {
    "ExecuteTime": {
     "end_time": "2018-03-23T18:55:09.035132Z",
     "start_time": "2018-03-23T18:55:09.030486Z"
    },
    "scrolled": true
   },
   "outputs": [
    {
     "name": "stdout",
     "output_type": "stream",
     "text": [
      "Initialize new Network Weights for qp_best\n",
      "Initialize new Network Weights for qp_best\n",
      "Loading History...\n",
      "Loss history not found, starting new history.\n",
      "Loading memories...\n",
      "Number of memories: 1644\n"
     ]
    },
    {
     "name": "stderr",
     "output_type": "stream",
     "text": [
      "100%|██████████████████████████████████████████| 10/10 [00:15<00:00,  1.56s/it]\n"
     ]
    },
    {
     "name": "stdout",
     "output_type": "stream",
     "text": [
      "Num done 0\n",
      "Saving memories...\n",
      "Num done 0\n",
      "Saving memories...\n",
      "Num done 0\n",
      "Saving memories...\n",
      "Num done 0\n",
      "Saving memories...\n",
      "Num done 0\n",
      "Saving memories...\n",
      "Num done 0\n",
      "Saving memories...\n",
      "Num done 0\n",
      "Saving memories...\n",
      "Num done 0\n",
      "Saving memories...\n",
      "Num done 0\n",
      "Saving memories...\n",
      "Num done 0\n",
      "Saving memories...\n",
      "Num done 0\n",
      "Saving memories...\n",
      "Num done 0\n",
      "Saving memories...\n",
      "Num done 0\n",
      "Saving memories...\n",
      "Num done 0\n",
      "Saving memories...\n",
      "Num done 0\n",
      "Saving memories...\n",
      "Num done 0\n",
      "Saving memories...\n",
      "Num done 0\n",
      "Saving memories...\n",
      "Num done 0\n",
      "Saving memories...\n",
      "Num done 0\n",
      "Saving memories...\n",
      "Num done 0\n",
      "Saving memories...\n",
      "Num done 0\n",
      "Saving memories...\n",
      "Num done 0\n",
      "Saving memories...\n",
      "Num done 0\n",
      "Saving memories...\n",
      "Num done 0\n",
      "Saving memories...\n",
      "Num done 0\n",
      "Saving memories...\n",
      "Num done 0\n",
      "Saving memories...\n",
      "Num done 0\n",
      "Saving memories...\n",
      "Num done 0\n",
      "Saving memories...\n",
      "Num done 0\n",
      "Saving memories...\n",
      "Num done 0\n",
      "Saving memories...\n",
      "Num done 0\n",
      "Saving memories...\n",
      "Num done 0\n",
      "Saving memories...\n",
      "Num done 0\n",
      "Saving memories...\n",
      "Num done 0\n",
      "Saving memories...\n",
      "Num done 0\n",
      "Saving memories...\n",
      "Num done 0\n",
      "Saving memories...\n",
      "Num done 0\n",
      "Saving memories...\n",
      "Num done 0\n",
      "Saving memories...\n",
      "Num done 0\n"
     ]
    },
    {
     "ename": "KeyboardInterrupt",
     "evalue": "",
     "output_type": "error",
     "traceback": [
      "\u001b[1;31m---------------------------------------------------------------------------\u001b[0m",
      "\u001b[1;31mKeyboardInterrupt\u001b[0m                         Traceback (most recent call last)",
      "\u001b[1;32m<ipython-input-1-5e780ce17f03>\u001b[0m in \u001b[0;36m<module>\u001b[1;34m()\u001b[0m\n\u001b[0;32m     21\u001b[0m \u001b[1;32mwhile\u001b[0m \u001b[1;32mTrue\u001b[0m\u001b[1;33m:\u001b[0m\u001b[1;33m\u001b[0m\u001b[0m\n\u001b[0;32m     22\u001b[0m     \u001b[0mmetaqp\u001b[0m\u001b[1;33m.\u001b[0m\u001b[0mtrain_memories\u001b[0m\u001b[1;33m(\u001b[0m\u001b[1;33m)\u001b[0m\u001b[1;33m\u001b[0m\u001b[0m\n\u001b[1;32m---> 23\u001b[1;33m     \u001b[0mmetaqp\u001b[0m\u001b[1;33m.\u001b[0m\u001b[0mrun_episode\u001b[0m\u001b[1;33m(\u001b[0m\u001b[0mroot_state\u001b[0m\u001b[1;33m)\u001b[0m\u001b[1;33m\u001b[0m\u001b[0m\n\u001b[0m\u001b[0;32m     24\u001b[0m \u001b[1;33m\u001b[0m\u001b[0m\n\u001b[0;32m     25\u001b[0m     \u001b[0miteration\u001b[0m \u001b[1;33m+=\u001b[0m \u001b[1;36m1\u001b[0m\u001b[1;33m\u001b[0m\u001b[0m\n",
      "\u001b[1;32mD:\\MetaQP\\MetaQP.py\u001b[0m in \u001b[0;36mrun_episode\u001b[1;34m(self, orig_states)\u001b[0m\n\u001b[0;32m    234\u001b[0m         \u001b[1;32mwhile\u001b[0m \u001b[0mepisode_num_done\u001b[0m \u001b[1;33m<\u001b[0m \u001b[0mconfig\u001b[0m\u001b[1;33m.\u001b[0m\u001b[0mEPISODE_BATCH_SIZE\u001b[0m\u001b[1;33m//\u001b[0m\u001b[0mconfig\u001b[0m\u001b[1;33m.\u001b[0m\u001b[0mN_WAY\u001b[0m\u001b[1;33m:\u001b[0m\u001b[1;33m\u001b[0m\u001b[0m\n\u001b[0;32m    235\u001b[0m             \u001b[0mprint\u001b[0m\u001b[1;33m(\u001b[0m\u001b[1;34m\"Num done {}\"\u001b[0m\u001b[1;33m.\u001b[0m\u001b[0mformat\u001b[0m\u001b[1;33m(\u001b[0m\u001b[0mepisode_num_done\u001b[0m\u001b[1;33m)\u001b[0m\u001b[1;33m)\u001b[0m\u001b[1;33m\u001b[0m\u001b[0m\n\u001b[1;32m--> 236\u001b[1;33m             \u001b[0mstates\u001b[0m\u001b[1;33m,\u001b[0m \u001b[0mepisode_is_done\u001b[0m\u001b[1;33m,\u001b[0m \u001b[0mepisode_num_done\u001b[0m\u001b[1;33m,\u001b[0m \u001b[0mresults\u001b[0m\u001b[1;33m,\u001b[0m \u001b[0mstarting_player_list\u001b[0m \u001b[1;33m=\u001b[0m \u001b[0mself\u001b[0m\u001b[1;33m.\u001b[0m\u001b[0mmeta_self_play\u001b[0m\u001b[1;33m(\u001b[0m\u001b[0mstates\u001b[0m\u001b[1;33m,\u001b[0m \u001b[0mepisode_is_done\u001b[0m\u001b[1;33m,\u001b[0m \u001b[0mepisode_num_done\u001b[0m\u001b[1;33m,\u001b[0m \u001b[0mbest_turn\u001b[0m\u001b[1;33m,\u001b[0m \u001b[0mresults\u001b[0m\u001b[1;33m,\u001b[0m \u001b[0mstarting_player_list\u001b[0m\u001b[1;33m)\u001b[0m\u001b[1;33m\u001b[0m\u001b[0m\n\u001b[0m\u001b[0;32m    237\u001b[0m             \u001b[0mbest_turn\u001b[0m \u001b[1;33m=\u001b[0m \u001b[1;33m(\u001b[0m\u001b[0mbest_turn\u001b[0m\u001b[1;33m+\u001b[0m\u001b[1;36m1\u001b[0m\u001b[1;33m)\u001b[0m\u001b[1;33m%\u001b[0m\u001b[1;36m2\u001b[0m\u001b[1;33m\u001b[0m\u001b[0m\n\u001b[0;32m    238\u001b[0m \u001b[1;33m\u001b[0m\u001b[0m\n",
      "\u001b[1;32mD:\\MetaQP\\MetaQP.py\u001b[0m in \u001b[0;36mmeta_self_play\u001b[1;34m(self, states, episode_is_done, episode_num_done, best_turn, results, starting_player_list)\u001b[0m\n\u001b[0;32m    380\u001b[0m             \u001b[0mbest_turn\u001b[0m \u001b[1;33m=\u001b[0m \u001b[1;33m(\u001b[0m\u001b[0mbest_turn\u001b[0m\u001b[1;33m+\u001b[0m\u001b[1;36m1\u001b[0m\u001b[1;33m)\u001b[0m\u001b[1;33m%\u001b[0m\u001b[1;36m2\u001b[0m\u001b[1;33m\u001b[0m\u001b[0m\n\u001b[0;32m    381\u001b[0m             is_done, tasks, _, num_done = self.check_finished_games(batch_task_tensor, is_done,\n\u001b[1;32m--> 382\u001b[1;33m                                                                           tasks, num_done, None, best_turn)\n\u001b[0m\u001b[0;32m    383\u001b[0m \u001b[1;33m\u001b[0m\u001b[0m\n\u001b[0;32m    384\u001b[0m             \u001b[0mbatch_task_variable\u001b[0m \u001b[1;33m=\u001b[0m \u001b[0mself\u001b[0m\u001b[1;33m.\u001b[0m\u001b[0mwrap_to_variable\u001b[0m\u001b[1;33m(\u001b[0m\u001b[0mbatch_task_tensor\u001b[0m\u001b[1;33m)\u001b[0m\u001b[1;33m\u001b[0m\u001b[0m\n",
      "\u001b[1;32mD:\\MetaQP\\MetaQP.py\u001b[0m in \u001b[0;36mcheck_finished_games\u001b[1;34m(self, batch_task_tensor, is_done, tasks, num_done, results, best_turn)\u001b[0m\n\u001b[0;32m    154\u001b[0m                 \u001b[1;32mif\u001b[0m \u001b[1;32mnot\u001b[0m \u001b[0mis_done\u001b[0m\u001b[1;33m[\u001b[0m\u001b[0midx\u001b[0m\u001b[1;33m]\u001b[0m\u001b[1;33m:\u001b[0m\u001b[1;33m\u001b[0m\u001b[0m\n\u001b[0;32m    155\u001b[0m                     \u001b[0mstate\u001b[0m \u001b[1;33m=\u001b[0m \u001b[0mbatch_task_tensor\u001b[0m\u001b[1;33m[\u001b[0m\u001b[0midx\u001b[0m\u001b[1;33m]\u001b[0m\u001b[1;33m\u001b[0m\u001b[0m\n\u001b[1;32m--> 156\u001b[1;33m                     \u001b[0mlegal_actions\u001b[0m \u001b[1;33m=\u001b[0m \u001b[0mself\u001b[0m\u001b[1;33m.\u001b[0m\u001b[0mget_legal_actions\u001b[0m\u001b[1;33m(\u001b[0m\u001b[0mstate\u001b[0m\u001b[1;33m[\u001b[0m\u001b[1;33m:\u001b[0m\u001b[1;36m2\u001b[0m\u001b[1;33m]\u001b[0m\u001b[1;33m)\u001b[0m\u001b[1;33m\u001b[0m\u001b[0m\n\u001b[0m\u001b[0;32m    157\u001b[0m                     \u001b[1;31m# I think draws are bugged, need to inspect\u001b[0m\u001b[1;33m\u001b[0m\u001b[1;33m\u001b[0m\u001b[0m\n\u001b[0;32m    158\u001b[0m                     \u001b[1;32mif\u001b[0m \u001b[0mlen\u001b[0m\u001b[1;33m(\u001b[0m\u001b[0mlegal_actions\u001b[0m\u001b[1;33m)\u001b[0m \u001b[1;33m==\u001b[0m \u001b[1;36m0\u001b[0m\u001b[1;33m:\u001b[0m\u001b[1;33m\u001b[0m\u001b[0m\n",
      "\u001b[1;32mD:\\MetaQP\\Connect4.py\u001b[0m in \u001b[0;36mget_legal_actions\u001b[1;34m(self, joint_states)\u001b[0m\n\u001b[0;32m     79\u001b[0m         \u001b[1;32mfor\u001b[0m \u001b[0mk\u001b[0m \u001b[1;32min\u001b[0m \u001b[0mrange\u001b[0m\u001b[1;33m(\u001b[0m\u001b[0mboard\u001b[0m\u001b[1;33m.\u001b[0m\u001b[0mshape\u001b[0m\u001b[1;33m[\u001b[0m\u001b[1;36m1\u001b[0m\u001b[1;33m]\u001b[0m\u001b[1;33m)\u001b[0m\u001b[1;33m:\u001b[0m\u001b[1;33m\u001b[0m\u001b[0m\n\u001b[0;32m     80\u001b[0m             match = cv2m(self.legal_move_pattern.astype(self.datatype), \n\u001b[1;32m---> 81\u001b[1;33m                      board[:, k].astype(self.datatype), cv2.TM_SQDIFF)\n\u001b[0m\u001b[0;32m     82\u001b[0m \u001b[1;33m\u001b[0m\u001b[0m\n\u001b[0;32m     83\u001b[0m             \u001b[0mi\u001b[0m\u001b[1;33m,\u001b[0m \u001b[0mj\u001b[0m \u001b[1;33m=\u001b[0m \u001b[0mnp\u001b[0m\u001b[1;33m.\u001b[0m\u001b[0mwhere\u001b[0m\u001b[1;33m(\u001b[0m\u001b[0mmatch\u001b[0m\u001b[1;33m==\u001b[0m\u001b[1;36m0\u001b[0m\u001b[1;33m)\u001b[0m\u001b[1;33m\u001b[0m\u001b[0m\n",
      "\u001b[1;31mKeyboardInterrupt\u001b[0m: "
     ]
    }
   ],
   "source": [
    "from MetaQP import MetaQP\n",
    "from Connect4 import Connect4\n",
    "import config\n",
    "import numpy as np\n",
    "import pickle\n",
    "from IPython.core.debugger import set_trace\n",
    "import torch\n",
    "\n",
    "connect4 = Connect4()\n",
    "actions = connect4.actions\n",
    "calculate_reward = connect4.calculate_reward\n",
    "get_legal_actions = connect4.get_legal_actions\n",
    "transition = connect4.transition\n",
    "\n",
    "root_state = np.zeros(shape=(3, 6, 7), dtype=\"float32\")\n",
    "iteration = 0\n",
    "\n",
    "metaqp = MetaQP(actions=actions, calculate_reward=calculate_reward,\n",
    "    get_legal_actions=get_legal_actions, transition=transition, cuda=False)\n",
    "\n",
    "while True:\n",
    "    metaqp.train_memories()\n",
    "    metaqp.run_episode(root_state)\n",
    "\n",
    "    iteration += 1\n",
    "    print(\"Iteration Number \"+str(iteration))"
   ]
  }
 ],
 "metadata": {
  "kernelspec": {
   "display_name": "Python 3",
   "language": "python",
   "name": "python3"
  },
  "language_info": {
   "codemirror_mode": {
    "name": "ipython",
    "version": 3
   },
   "file_extension": ".py",
   "mimetype": "text/x-python",
   "name": "python",
   "nbconvert_exporter": "python",
   "pygments_lexer": "ipython3",
   "version": "3.6.3"
  },
  "toc": {
   "nav_menu": {},
   "number_sections": true,
   "sideBar": true,
   "skip_h1_title": false,
   "toc_cell": false,
   "toc_position": {},
   "toc_section_display": "block",
   "toc_window_display": false
  }
 },
 "nbformat": 4,
 "nbformat_minor": 2
}
